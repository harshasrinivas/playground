{
 "cells": [
  {
   "cell_type": "markdown",
   "metadata": {
    "deletable": true,
    "editable": true
   },
   "source": [
    "This code snippet performs exactly the same job as [`ReactorNotRestartable.ipynb`](http://nbviewer.jupyter.org/github/harshasrinivas/playground/blob/master/ReactorNotRestartable.ipynb)\n",
    "\n",
    "However, we use **`CrawlerRunner`** here instead of **`CrawlerProcess`** - so we have a control over starting and stopping the twisted reactor.\n",
    "\n",
    "**Proposd Fix**: `CrawlerRunner` API could be used to integrate Scrapy-Twisted event loop with the IPython-Jupyter event loop."
   ]
  },
  {
   "cell_type": "code",
   "execution_count": null,
   "metadata": {
    "collapsed": false,
    "deletable": true,
    "editable": true,
    "scrolled": false
   },
   "outputs": [],
   "source": [
    "# -*- coding: utf-8 -*-\n",
    "import scrapy\n",
    "from scrapy.crawler import CrawlerRunner\n",
    "from twisted.internet import reactor\n",
    "from scrapy.utils.log import configure_logging\n",
    "\n",
    "class MySpider(scrapy.Spider):\n",
    "    name = 'scrapy'\n",
    "    allowed_domains = ['scrapy.org']\n",
    "    def start_requests(self):\n",
    "    \tlink = 'https://scrapy.org/'\n",
    "    \tyield scrapy.Request(url=link, callback=self.parse)\n",
    "    def parse(self, response):\n",
    "        pass\n",
    "\n",
    "configure_logging()\n",
    "runner = CrawlerRunner()\n",
    "d = runner.crawl(MySpider)\n",
    "d.addBoth(lambda _: reactor.stop())\n",
    "reactor.run()"
   ]
  }
 ],
 "metadata": {
  "kernelspec": {
   "display_name": "Python 2",
   "language": "python",
   "name": "python2"
  },
  "language_info": {
   "codemirror_mode": {
    "name": "ipython",
    "version": 2
   },
   "file_extension": ".py",
   "mimetype": "text/x-python",
   "name": "python",
   "nbconvert_exporter": "python",
   "pygments_lexer": "ipython2",
   "version": "2.7.10"
  }
 },
 "nbformat": 4,
 "nbformat_minor": 2
}
