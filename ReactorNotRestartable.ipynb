{
 "cells": [
  {
   "cell_type": "markdown",
   "metadata": {},
   "source": [
    "Running the below code snippet **once** - does not cause any problems.\n",
    "\n",
    "However, running it **again** gives raise to the error `ReactorNotRestartable`\n",
    "\n",
    "**Reason**: Twisted event loop is not restartable.\n",
    "\n",
    "**Working of the code snippet**: `scrapy.crawler.CrawlerProcess` starts a Twisted reactor -> runs the spider -> stops the twisted reactor."
   ]
  },
  {
   "cell_type": "code",
   "execution_count": null,
   "metadata": {
    "collapsed": false,
    "deletable": true,
    "editable": true
   },
   "outputs": [],
   "source": [
    "# -*- coding: utf-8 -*-\n",
    "import scrapy\n",
    "from scrapy.crawler import CrawlerProcess\n",
    "\n",
    "class CraigslistSpider(scrapy.Spider):\n",
    "    name = 'craigslist'\n",
    "    allowed_domains = ['craigslist.org']\n",
    "    def start_requests(self):\n",
    "    \tlink = 'https://craigslist.org/'\n",
    "    \tyield scrapy.Request(url=link, callback=self.parse)\n",
    "    \tdef parse(self, response):\n",
    "            pass\n",
    "\n",
    "process = CrawlerProcess({\n",
    "    'USER_AGENT': 'Mozilla/4.0 (compatible; MSIE 7.0; Windows NT 5.1)'\n",
    "})\n",
    "process.crawl(CraigslistSpider)\n",
    "process.start()"
   ]
  }
 ],
 "metadata": {
  "kernelspec": {
   "display_name": "Python 2",
   "language": "python",
   "name": "python2"
  },
  "language_info": {
   "codemirror_mode": {
    "name": "ipython",
    "version": 2
   },
   "file_extension": ".py",
   "mimetype": "text/x-python",
   "name": "python",
   "nbconvert_exporter": "python",
   "pygments_lexer": "ipython2",
   "version": "2.7.10"
  }
 },
 "nbformat": 4,
 "nbformat_minor": 2
}
